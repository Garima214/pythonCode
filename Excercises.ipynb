{
 "cells": [
  {
   "cell_type": "code",
   "execution_count": 49,
   "metadata": {
    "collapsed": false
   },
   "outputs": [
    {
     "name": "stdout",
     "output_type": "stream",
     "text": [
      "2002 2009 2016 2023 2037 2044 2051 2058 2072 2079 2086 2093 2107 2114 2121 2128 2142 2149 2156 2163 2177 2184 2191 2198 2212 2219 2226 2233 2247 2254 2261 2268 2282 2289 2296 2303 2317 2324 2331 2338 2352 2359 2366 2373 2387 2394 2401 2408 2422 2429 2436 2443 2457 2464 2471 2478 2492 2499 2506 2513 2527 2534 2541 2548 2562 2569 2576 2583 2597 2604 2611 2618 2632 2639 2646 2653 2667 2674 2681 2688 2702 2709 2716 2723 2737 2744 2751 2758 2772 2779 2786 2793 2807 2814 2821 2828 2842 2849 2856 2863 2877 2884 2891 2898 2912 2919 2926 2933 2947 2954 2961 2968 2982 2989 2996 3003 3017 3024 3031 3038 3052 3059 3066 3073 3087 3094 3101 3108 3122 3129 3136 3143 3157 3164 3171 3178 3192 3199\n"
     ]
    }
   ],
   "source": [
    "# Excercise 1:\n",
    "# print numbers divisible by 7 but not 5, in the range 2000-3200\n",
    "\n",
    "for x in range(2000,3200):\n",
    "    a = x % 7\n",
    "    b = x % 5\n",
    "    if a == 0 and b != 0:\n",
    "        print x,\n",
    "        "
   ]
  },
  {
   "cell_type": "code",
   "execution_count": 50,
   "metadata": {
    "collapsed": false
   },
   "outputs": [
    {
     "name": "stdout",
     "output_type": "stream",
     "text": [
      "Enter a number:8\n",
      "40320\n"
     ]
    }
   ],
   "source": [
    "# Excercise 2:\n",
    "# Write a function for calculating the Factorial of a number\n",
    "# Take a number as input and display its factorial\n",
    "\n",
    "def factorial(num):\n",
    "    fact = num\n",
    "    for x in range(1, num):\n",
    "        fact = fact * x;\n",
    "    return fact\n",
    "    \n",
    "number = input(\"Enter a number:\")\n",
    "print factorial(number)"
   ]
  },
  {
   "cell_type": "code",
   "execution_count": 51,
   "metadata": {
    "collapsed": false
   },
   "outputs": [
    {
     "name": "stdout",
     "output_type": "stream",
     "text": [
      "Enter a Number:8\n",
      "{1: 1, 2: 4, 3: 9, 4: 16, 5: 25, 6: 36, 7: 49, 8: 64}\n"
     ]
    }
   ],
   "source": [
    "# Excercise 3\n",
    "#Print the dictionary with key-value as [x: x*x] starting from x = 1 to x = <number entered by user>\n",
    "\n",
    "def setDictionary(num):\n",
    "    numDic = {1 : 1}\n",
    "    for x in range(2,num+1):\n",
    "        numDic[x] = x*x        \n",
    "    print numDic\n",
    "\n",
    "number = input(\"Enter a Number:\")\n",
    "setDictionary(number)"
   ]
  },
  {
   "cell_type": "code",
   "execution_count": 48,
   "metadata": {
    "collapsed": false
   },
   "outputs": [
    {
     "name": "stdout",
     "output_type": "stream",
     "text": [
      "Enter 1st number:4\n",
      "Enter 2nd number:5\n",
      "[[0, 0, 0, 0, 0], [0, 1, 2, 3, 4, 0, 2, 4, 6, 8, 0, 3, 6, 9, 12], [0, 1, 2, 3, 4, 0, 2, 4, 6, 8, 0, 3, 6, 9, 12], [0, 1, 2, 3, 4, 0, 2, 4, 6, 8, 0, 3, 6, 9, 12], [0, 1, 2, 3, 4, 0, 2, 4, 6, 8, 0, 3, 6, 9, 12]]\n"
     ]
    }
   ],
   "source": [
    "# Excercise 4\n",
    "# Create a 2-D list, with element value in i-row and j-column as (i*j)\n",
    "\n",
    "def create2DList(x,y):   \n",
    "    twoDList = [[]]\n",
    "    llist1 = []\n",
    "    for i in range (x):   \n",
    "        twoDList.append(llist1)\n",
    "        for j in range(y):\n",
    "            twoDList[i].append(i*j)\n",
    "        \n",
    "    print twoDList\n",
    "\n",
    "num1 = input(\"Enter 1st number:\")\n",
    "num2 = input(\"Enter 2nd number:\")\n",
    "create2DList(num1, num2)"
   ]
  },
  {
   "cell_type": "code",
   "execution_count": 59,
   "metadata": {
    "collapsed": false
   },
   "outputs": [
    {
     "name": "stdout",
     "output_type": "stream",
     "text": [
      "Enter a comma seperated String:hello,world,bag\n",
      "bag,hello,world\n"
     ]
    }
   ],
   "source": [
    "# Excercise 5\n",
    "# Enter a comma seperated string as input, and display the sorted string\n",
    "\n",
    "strInput = raw_input (\"Enter a comma seperated String:\")\n",
    "str1 = []\n",
    "str1 = strInput.rsplit(',')\n",
    "str1.sort()\n",
    "str2 = str1[0]\n",
    "for x in range(1, len(str1)):\n",
    "    str2 = str2 + ',' + str1[x]\n",
    "    \n",
    "print str2\n"
   ]
  },
  {
   "cell_type": "code",
   "execution_count": null,
   "metadata": {
    "collapsed": true
   },
   "outputs": [],
   "source": []
  }
 ],
 "metadata": {
  "kernelspec": {
   "display_name": "Python 2",
   "language": "python",
   "name": "python2"
  },
  "language_info": {
   "codemirror_mode": {
    "name": "ipython",
    "version": 2
   },
   "file_extension": ".py",
   "mimetype": "text/x-python",
   "name": "python",
   "nbconvert_exporter": "python",
   "pygments_lexer": "ipython2",
   "version": "2.7.11"
  }
 },
 "nbformat": 4,
 "nbformat_minor": 0
}
