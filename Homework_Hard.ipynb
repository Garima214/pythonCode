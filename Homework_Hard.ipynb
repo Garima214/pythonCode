{
 "cells": [
  {
   "cell_type": "code",
   "execution_count": 76,
   "metadata": {
    "collapsed": false
   },
   "outputs": [
    {
     "name": "stdout",
     "output_type": "stream",
     "text": [
      "Enter a AlphaNumeric string:  New to Python or choosing between Python 2 and Python 3? Read Python 2 or Python 3\n",
      "[('2', 2), ('3', 1), ('3?', 1), ('New', 1), ('Python', 5), ('Read', 1), ('and', 1), ('between', 1), ('choosing', 1), ('or', 2), ('to', 1)]\n"
     ]
    }
   ],
   "source": [
    "# Excercise 3\n",
    "# Input Alphanumeric string\n",
    "# Count frequency of words and display after sorting\n",
    "\n",
    "import collections\n",
    "str1 = raw_input(\"Enter a AlphaNumeric string: \")\n",
    "\n",
    "str2 = str1.rsplit()\n",
    "str2.sort()\n",
    "dic = {}\n",
    "\n",
    "for x in range (0, len(str2)):\n",
    "    dic[str2[x]] = str2.count(str2[x])  \n",
    "\n",
    "print sorted(dic.items())"
   ]
  },
  {
   "cell_type": "code",
   "execution_count": 59,
   "metadata": {
    "collapsed": false
   },
   "outputs": [
    {
     "name": "stdout",
     "output_type": "stream",
     "text": [
      "How many Records:3\n",
      "Enter name:tom\n",
      "Enter Age:12\n",
      "Enter Score:98\n",
      "Enter name:jim\n",
      "Enter Age:32\n",
      "Enter Score:89\n",
      "Enter name:gaby\n",
      "Enter Age:26\n",
      "Enter Score:97\n",
      "1: Sort by Name\n",
      "2: Sort by Age\n",
      "3: Sort by Score\n",
      "How do you want to sort (1,2, or 3)?2\n",
      "Sort by Age:\n",
      "[('tom', 12, 98), ('gaby', 26, 97), ('jim', 32, 89)]\n"
     ]
    }
   ],
   "source": [
    "# Excercise 1\n",
    "# Sort based on name, age, score\n",
    "\n",
    "from operator import itemgetter\n",
    "\n",
    "noOfRec = input(\"How many Records:\")\n",
    "list1 = []\n",
    "list2 = []\n",
    "for x in range (0,noOfRec):\n",
    "    name = raw_input(\"Enter name:\")\n",
    "    age = input(\"Enter Age:\")\n",
    "    score = input(\"Enter Score:\")\n",
    "    #list2 = [name, age, score]\n",
    "    tup2 = (name,age,score)\n",
    "    list1.append(tup2)\n",
    "\n",
    "tup =tuple(list1)\n",
    "\n",
    "print \"1: Sort by Name\"\n",
    "print \"2: Sort by Age\"\n",
    "print \"3: Sort by Score\"\n",
    "\n",
    "sortBy = input(\"How do you want to sort (1,2, or 3)?\")\n",
    "\n",
    "if sortBy == 1:\n",
    "    print \"Sorted by Name:\"\n",
    "    print sorted(tup, key = itemgetter(0))\n",
    "elif sortBy == 2:\n",
    "    print \"Sorted by Age:\"\n",
    "    print sorted(tup, key = itemgetter(1))\n",
    "else:\n",
    "    print \"Sorted by Score:\"\n",
    "    print sorted(tup, key = itemgetter(2))"
   ]
  },
  {
   "cell_type": "code",
   "execution_count": 74,
   "metadata": {
    "collapsed": false
   },
   "outputs": [
    {
     "name": "stdout",
     "output_type": "stream",
     "text": [
      "Enter the no. of steps travelled by robot in the given directions: \n",
      "UP:5\n",
      "DOWN:3\n",
      "LEFT:3\n",
      "RIGHT:2\n",
      "Start Position:  [0, 0]\n",
      "Final Position:  [2, 1]\n",
      "Distance travelled =  2\n"
     ]
    }
   ],
   "source": [
    "# Excercise 2\n",
    "# Calculate no. of steps\n",
    "\n",
    "import math\n",
    "\n",
    "tup = ((\"UP\", 5), (\"DOWN\", 3), (\"LEFT\", 3), (\"RIGHT\", 2))\n",
    "\n",
    "print \"Enter the no. of steps travelled by robot in the given directions: \"\n",
    "up = input(\"UP:\")\n",
    "down = input(\"DOWN:\")\n",
    "left = input(\"LEFT:\")\n",
    "right = input(\"RIGHT:\")\n",
    "\n",
    "startPos = [0,0]\n",
    "finalPos = [up - down, left - right]\n",
    "\n",
    "print \"Start Position: \", startPos\n",
    "print \"Final Position: \", finalPos\n",
    "\n",
    "dis = finalPos[0] * finalPos[0] + finalPos[1] * finalPos[1]\n",
    "dis1 = math.sqrt(dis)\n",
    "print \"Distance travelled = \", int(dis1)"
   ]
  },
  {
   "cell_type": "code",
   "execution_count": null,
   "metadata": {
    "collapsed": true
   },
   "outputs": [],
   "source": []
  }
 ],
 "metadata": {
  "kernelspec": {
   "display_name": "Python 2",
   "language": "python",
   "name": "python2"
  },
  "language_info": {
   "codemirror_mode": {
    "name": "ipython",
    "version": 2
   },
   "file_extension": ".py",
   "mimetype": "text/x-python",
   "name": "python",
   "nbconvert_exporter": "python",
   "pygments_lexer": "ipython2",
   "version": "2.7.11"
  }
 },
 "nbformat": 4,
 "nbformat_minor": 0
}
