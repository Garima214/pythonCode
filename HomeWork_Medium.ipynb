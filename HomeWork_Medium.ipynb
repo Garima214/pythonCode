{
 "cells": [
  {
   "cell_type": "code",
   "execution_count": 1,
   "metadata": {
    "collapsed": false
   },
   "outputs": [
    {
     "name": "stdout",
     "output_type": "stream",
     "text": [
      "Enter a string: here is a input\n",
      "HERE IS A INPUT\n"
     ]
    }
   ],
   "source": [
    "# Excercise 1\n",
    "# print string in Capitals\n",
    "\n",
    "def convertToUpper(str1):\n",
    "    print str1.upper()\n",
    "    \n",
    "str1 = raw_input(\"Enter a string: \")\n",
    "convertToUpper(str1)\n"
   ]
  },
  {
   "cell_type": "code",
   "execution_count": 20,
   "metadata": {
    "collapsed": false
   },
   "outputs": [
    {
     "name": "stdout",
     "output_type": "stream",
     "text": [
      "Enter a String: hello world and practice makes perfect and hello world again\n",
      "again and hello makes perfect practice world\n"
     ]
    }
   ],
   "source": [
    "# Excercise 2\n",
    "# remove duplicate words, and then display in sorted form\n",
    "\n",
    "str1 = raw_input(\"Enter a String: \")\n",
    "\n",
    "str1 = str1.rsplit()\n",
    "str2 = list(set(str1))\n",
    "str2.sort()\n",
    "str3 = ' '.join(str2) \n",
    "print str3"
   ]
  },
  {
   "cell_type": "code",
   "execution_count": 25,
   "metadata": {
    "collapsed": false
   },
   "outputs": [
    {
     "name": "stdout",
     "output_type": "stream",
     "text": [
      "Enter a String: hello world! 123\n",
      "LETTERS: 10\n",
      "DIGITS: 3\n"
     ]
    }
   ],
   "source": [
    "# Excercise 3\n",
    "# Calculate number of digits and characters\n",
    "\n",
    "str1 = raw_input(\"Enter a String: \")\n",
    "letters = 0\n",
    "digits = 0\n",
    "\n",
    "for x in str1:\n",
    "    if x.isalpha():\n",
    "        letters += 1\n",
    "    elif x.isdigit():\n",
    "        digits += 1\n",
    "\n",
    "print \"LETTERS: %s\" %letters\n",
    "print \"DIGITS: %s\" %digits"
   ]
  },
  {
   "cell_type": "code",
   "execution_count": 28,
   "metadata": {
    "collapsed": false
   },
   "outputs": [
    {
     "name": "stdout",
     "output_type": "stream",
     "text": [
      "Enter a String: helloWORLD\n",
      "Upper Case: 5\n",
      "Lower Case: 5\n"
     ]
    }
   ],
   "source": [
    "# Excercise 4\n",
    "# Calculate number of uppercase and lowercase characters\n",
    "\n",
    "str1 = raw_input(\"Enter a String: \")\n",
    "upperC = 0\n",
    "lowerC = 0\n",
    "\n",
    "for x in str1:\n",
    "    if x.isupper():\n",
    "        upperC += 1\n",
    "    elif x.islower():\n",
    "        lowerC += 1\n",
    "\n",
    "print \"Upper Case: %s\" %upperC\n",
    "print \"Lower Case: %s\" %lowerC"
   ]
  },
  {
   "cell_type": "code",
   "execution_count": 38,
   "metadata": {
    "collapsed": false
   },
   "outputs": [
    {
     "name": "stdout",
     "output_type": "stream",
     "text": [
      "94.9475054432\n"
     ]
    }
   ],
   "source": [
    "# Excercise 5\n",
    "# Generate random float between 10 and 100\n",
    "\n",
    "import random\n",
    "x = random.uniform(10,100)\n",
    "print x\n"
   ]
  },
  {
   "cell_type": "code",
   "execution_count": 58,
   "metadata": {
    "collapsed": false
   },
   "outputs": [
    {
     "data": {
      "text/plain": [
       "[0.026679039001464844,\n",
       " 0.018996000289916992,\n",
       " 0.017445087432861328,\n",
       " 0.017431974411010742,\n",
       " 0.01725602149963379,\n",
       " 0.017190933227539062,\n",
       " 0.01723504066467285,\n",
       " 0.017158985137939453,\n",
       " 0.0171968936920166,\n",
       " 0.017218828201293945,\n",
       " 0.01722097396850586,\n",
       " 0.01812005043029785,\n",
       " 0.018733978271484375,\n",
       " 0.017307043075561523,\n",
       " 0.01730203628540039,\n",
       " 0.0171658992767334,\n",
       " 0.017335176467895508,\n",
       " 0.017264127731323242,\n",
       " 0.017186880111694336,\n",
       " 0.0171968936920166,\n",
       " 0.017216920852661133,\n",
       " 0.01719498634338379,\n",
       " 0.017300128936767578,\n",
       " 0.017267942428588867,\n",
       " 0.017215967178344727,\n",
       " 0.01720285415649414,\n",
       " 0.017168045043945312,\n",
       " 0.01806807518005371,\n",
       " 0.019224166870117188,\n",
       " 0.019163846969604492,\n",
       " 0.01727890968322754,\n",
       " 0.01717400550842285,\n",
       " 0.017251014709472656,\n",
       " 0.017239093780517578,\n",
       " 0.01718902587890625,\n",
       " 0.017215967178344727,\n",
       " 0.017222166061401367,\n",
       " 0.01718306541442871,\n",
       " 0.017081022262573242,\n",
       " 0.017203092575073242,\n",
       " 0.01735711097717285,\n",
       " 0.01753687858581543,\n",
       " 0.017403125762939453,\n",
       " 0.017563819885253906,\n",
       " 0.01878499984741211,\n",
       " 0.020589113235473633,\n",
       " 0.017952919006347656,\n",
       " 0.018476009368896484,\n",
       " 0.017935991287231445,\n",
       " 0.018193960189819336,\n",
       " 0.01853203773498535,\n",
       " 0.017601966857910156,\n",
       " 0.01833796501159668,\n",
       " 0.0180661678314209,\n",
       " 0.017581939697265625,\n",
       " 0.01765918731689453,\n",
       " 0.01734304428100586,\n",
       " 0.01761794090270996,\n",
       " 0.017206192016601562,\n",
       " 0.017234086990356445,\n",
       " 0.017220020294189453,\n",
       " 0.017267942428588867,\n",
       " 0.017379045486450195,\n",
       " 0.017308950424194336,\n",
       " 0.01731705665588379,\n",
       " 0.017179012298583984,\n",
       " 0.017180919647216797,\n",
       " 0.017241954803466797,\n",
       " 0.017320871353149414,\n",
       " 0.017401933670043945,\n",
       " 0.017195940017700195,\n",
       " 0.017241954803466797,\n",
       " 0.017169952392578125,\n",
       " 0.017194032669067383,\n",
       " 0.017251014709472656,\n",
       " 0.017202138900756836,\n",
       " 0.017234086990356445,\n",
       " 0.017247915267944336,\n",
       " 0.01737809181213379,\n",
       " 0.01736617088317871,\n",
       " 0.017241954803466797,\n",
       " 0.017236948013305664,\n",
       " 0.01717400550842285,\n",
       " 0.0171661376953125,\n",
       " 0.018259048461914062,\n",
       " 0.019216060638427734,\n",
       " 0.018146038055419922,\n",
       " 0.01736593246459961,\n",
       " 0.01719808578491211,\n",
       " 0.017240047454833984,\n",
       " 0.017281055450439453,\n",
       " 0.017189979553222656,\n",
       " 0.017239809036254883,\n",
       " 0.01718592643737793,\n",
       " 0.017185211181640625,\n",
       " 0.017240047454833984,\n",
       " 0.017214059829711914,\n",
       " 0.017249107360839844,\n",
       " 0.01722407341003418,\n",
       " 0.017260074615478516]"
      ]
     },
     "execution_count": 58,
     "metadata": {},
     "output_type": "execute_result"
    }
   ],
   "source": [
    "# Excercise 6\n",
    "# calculate running time\n",
    "import timeit\n",
    "timeit.repeat('1+1', repeat = 100, number=1000000)"
   ]
  },
  {
   "cell_type": "code",
   "execution_count": null,
   "metadata": {
    "collapsed": true
   },
   "outputs": [],
   "source": []
  }
 ],
 "metadata": {
  "kernelspec": {
   "display_name": "Python 2",
   "language": "python",
   "name": "python2"
  },
  "language_info": {
   "codemirror_mode": {
    "name": "ipython",
    "version": 2
   },
   "file_extension": ".py",
   "mimetype": "text/x-python",
   "name": "python",
   "nbconvert_exporter": "python",
   "pygments_lexer": "ipython2",
   "version": "2.7.11"
  }
 },
 "nbformat": 4,
 "nbformat_minor": 0
}
