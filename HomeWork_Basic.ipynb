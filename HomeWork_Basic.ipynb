{
 "cells": [
  {
   "cell_type": "code",
   "execution_count": 2,
   "metadata": {
    "collapsed": false
   },
   "outputs": [
    {
     "name": "stdout",
     "output_type": "stream",
     "text": [
      "Enter a number4\n",
      "4\n",
      "<type 'str'>\n"
     ]
    }
   ],
   "source": [
    "## Excercise 1\n",
    "## Convert integer to string\n",
    "\n",
    "def convertToStr(num):\n",
    "    str1 = str(num)\n",
    "    print str1\n",
    "    print type(str1)\n",
    "    \n",
    "number = input(\"Enter a number\")\n",
    "convertToStr(number)"
   ]
  },
  {
   "cell_type": "code",
   "execution_count": 4,
   "metadata": {
    "collapsed": false
   },
   "outputs": [
    {
     "name": "stdout",
     "output_type": "stream",
     "text": [
      "Enter a number:4\n",
      "Enter a number:6\n",
      "10\n",
      "<type 'int'>\n"
     ]
    }
   ],
   "source": [
    "## Excercise 2\n",
    "## Convert String to Integer\n",
    "\n",
    "def convertToInt(str1, str2):\n",
    "    num = int(str1) + int(str2)\n",
    "    print num\n",
    "    print type(num)\n",
    "\n",
    "\n",
    "strg1 = raw_input(\"Enter a number:\")\n",
    "strg2 = raw_input(\"Enter a number:\")\n",
    "convertToInt(strg1, strg2)\n"
   ]
  },
  {
   "cell_type": "code",
   "execution_count": 6,
   "metadata": {
    "collapsed": false
   },
   "outputs": [
    {
     "name": "stdout",
     "output_type": "stream",
     "text": [
      "Enter a String:hello\n",
      "Enter a String:world\n",
      "hello world\n"
     ]
    }
   ],
   "source": [
    "## Excercise 3\n",
    "## Concatenate 2 string\n",
    "\n",
    "def concatString(str1, str2):\n",
    "    str3 = str1 + \" \" + str2\n",
    "    print str3\n",
    "\n",
    "strg1 = raw_input(\"Enter a String:\")\n",
    "strg2 = raw_input(\"Enter a String:\")\n",
    "concatString(strg1,strg2)"
   ]
  },
  {
   "cell_type": "code",
   "execution_count": 8,
   "metadata": {
    "collapsed": false
   },
   "outputs": [
    {
     "name": "stdout",
     "output_type": "stream",
     "text": [
      "Enter a String:hi\n",
      "Enter a String:to\n",
      "hi\n",
      "to\n"
     ]
    }
   ],
   "source": [
    "## Excercise 4\n",
    "## Print string with highest length\n",
    "\n",
    "def functionStr(str1, str2):\n",
    "    if (len(str1) == len(str2)):\n",
    "        print str1\n",
    "        print str2\n",
    "    elif (len(str1) > len(str2)):\n",
    "        print str1\n",
    "    else:\n",
    "        print str2\n",
    "        \n",
    "string1 = raw_input(\"Enter a String:\")\n",
    "string2 = raw_input(\"Enter a String:\")\n",
    "functionStr(string1, string2)"
   ]
  },
  {
   "cell_type": "code",
   "execution_count": 11,
   "metadata": {
    "collapsed": false
   },
   "outputs": [
    {
     "name": "stdout",
     "output_type": "stream",
     "text": [
      "Enter a Number:0\n",
      "Number is EVEN\n"
     ]
    }
   ],
   "source": [
    "## Excercise 5\n",
    "## Print Even or Odd\n",
    "\n",
    "def evenOdd(num):\n",
    "    if num % 2 == 0:\n",
    "        print \"Number is EVEN\"\n",
    "    else:\n",
    "        print \"Number is ODD\"\n",
    "        \n",
    "number = input(\"Enter a Number:\")\n",
    "evenOdd(number)"
   ]
  },
  {
   "cell_type": "code",
   "execution_count": 17,
   "metadata": {
    "collapsed": false
   },
   "outputs": [
    {
     "name": "stdout",
     "output_type": "stream",
     "text": [
      "Enter yes or no: no\n",
      "No\n"
     ]
    }
   ],
   "source": [
    "## Excercise 6\n",
    "# Print 'Yes' or 'NO'\n",
    "\n",
    "def yesOrNo(str1):\n",
    "    if str1 == 'Yes' or str1 == 'yes' or str1 == 'YES':\n",
    "        print \"Yes\"\n",
    "    else:\n",
    "        print \"No\"\n",
    "        \n",
    "strg1 = raw_input(\"Enter yes or no: \")\n",
    "yesOrNo(strg1)\n",
    "\n"
   ]
  },
  {
   "cell_type": "code",
   "execution_count": 23,
   "metadata": {
    "collapsed": false
   },
   "outputs": [
    {
     "name": "stdout",
     "output_type": "stream",
     "text": [
      "[2, 4, 6, 8, 10]\n"
     ]
    }
   ],
   "source": [
    "# Excercise 7\n",
    "# Filter Even numbers in a list\n",
    "\n",
    "numList = [1,2,3,4,5,6,7,8,9,10]\n",
    "\n",
    "print filter(lambda x: x % 2 == 0, numList)"
   ]
  },
  {
   "cell_type": "code",
   "execution_count": 32,
   "metadata": {
    "collapsed": false
   },
   "outputs": [
    {
     "name": "stdout",
     "output_type": "stream",
     "text": [
      "[1, 4, 9, 16, 25, 36, 49, 64, 81, 100]\n"
     ]
    }
   ],
   "source": [
    "# Excercise 8\n",
    "# map() to make a list whose elements are square of elements\n",
    "\n",
    "numList = [1,2,3,4,5,6,7,8,9,10]\n",
    "\n",
    "print map(lambda x: x * x, numList)"
   ]
  },
  {
   "cell_type": "code",
   "execution_count": 34,
   "metadata": {
    "collapsed": false
   },
   "outputs": [
    {
     "name": "stdout",
     "output_type": "stream",
     "text": [
      "[2, 4, 6, 8, 10, 12, 14, 16, 18, 20]\n"
     ]
    }
   ],
   "source": [
    "# Excercise 9\n",
    "# Filter Even numbers in between 1 and 20\n",
    "\n",
    "nList = range(1,21)\n",
    "newList = filter(lambda x: x % 2 == 0, nList)\n",
    "\n",
    "print newList"
   ]
  },
  {
   "cell_type": "code",
   "execution_count": 51,
   "metadata": {
    "collapsed": false
   },
   "outputs": [
    {
     "name": "stdout",
     "output_type": "stream",
     "text": [
      "Enter a comma seperated String:world,bag,hello\n",
      "bag,hello,world\n"
     ]
    }
   ],
   "source": [
    "# Excercise 10\n",
    "# Enter a comma seperated string as input, and display the sorted string\n",
    "\n",
    "strInput = raw_input (\"Enter a comma seperated String:\")\n",
    "str1 = []\n",
    "str1 = strInput.rsplit(',')\n",
    "str1.sort()\n",
    "print ','.join(str1)"
   ]
  },
  {
   "cell_type": "code",
   "execution_count": 49,
   "metadata": {
    "collapsed": false
   },
   "outputs": [
    {
     "name": "stdout",
     "output_type": "stream",
     "text": [
      "Enter a String: H1e2l3l4o5w6o7r8l9d\n",
      "Helloworld\n"
     ]
    }
   ],
   "source": [
    "# Excercise 11\n",
    "# Display the characters in string with even indixes\n",
    "\n",
    "str1 = raw_input(\"Enter a String: \")\n",
    "str2 = list(str1)\n",
    "\n",
    "str3 = str2[::2]\n",
    "print ''.join(str3)"
   ]
  },
  {
   "cell_type": "code",
   "execution_count": null,
   "metadata": {
    "collapsed": true
   },
   "outputs": [],
   "source": []
  }
 ],
 "metadata": {
  "kernelspec": {
   "display_name": "Python 2",
   "language": "python",
   "name": "python2"
  },
  "language_info": {
   "codemirror_mode": {
    "name": "ipython",
    "version": 2
   },
   "file_extension": ".py",
   "mimetype": "text/x-python",
   "name": "python",
   "nbconvert_exporter": "python",
   "pygments_lexer": "ipython2",
   "version": "2.7.11"
  }
 },
 "nbformat": 4,
 "nbformat_minor": 0
}
